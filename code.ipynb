{
  "nbformat": 4,
  "nbformat_minor": 0,
  "metadata": {
    "colab": {
      "provenance": [],
      "authorship_tag": "ABX9TyNuES+saHgZgd/s9A+et8k6",
      "include_colab_link": true
    },
    "kernelspec": {
      "name": "python3",
      "display_name": "Python 3"
    },
    "language_info": {
      "name": "python"
    }
  },
  "cells": [
    {
      "cell_type": "markdown",
      "metadata": {
        "id": "view-in-github",
        "colab_type": "text"
      },
      "source": [
        "<a href=\"https://colab.research.google.com/github/adith-ds/project1/blob/main/code.ipynb\" target=\"_parent\"><img src=\"https://colab.research.google.com/assets/colab-badge.svg\" alt=\"Open In Colab\"/></a>"
      ]
    },
    {
      "cell_type": "code",
      "source": [
        "import pandas as pd\n",
        "\n",
        "udf = pd.read_csv('/content/users.csv')\n",
        "rdf = pd.read_csv('/content/repositories.csv')\n",
        "udf.columns\n",
        "rdf.columns\n",
        "\n"
      ],
      "metadata": {
        "id": "c0Z2N885sfyO"
      },
      "execution_count": null,
      "outputs": []
    },
    {
      "cell_type": "code",
      "source": [
        "top_5_followers = udf.sort_values(by='followers', ascending=False).head(5)\n",
        "\n",
        "print(top_5_followers)"
      ],
      "metadata": {
        "id": "vpmfTpclV-A0"
      },
      "execution_count": null,
      "outputs": []
    },
    {
      "cell_type": "code",
      "source": [
        "top_5_early = udf.sort_values(by='created_at', ascending=True).head(5)\n",
        "\n",
        "print(top_5_early)"
      ],
      "metadata": {
        "id": "3FidjACPOJCp"
      },
      "execution_count": null,
      "outputs": []
    },
    {
      "cell_type": "code",
      "source": [
        "popular_licenses = rdf[rdf['license_name'] != ''].license_name.value_counts().head(3).index\n",
        "# Convert to comma-separated list\n",
        "print(','.join(popular_licenses))"
      ],
      "metadata": {
        "id": "UxVErxWvS406"
      },
      "execution_count": null,
      "outputs": []
    },
    {
      "cell_type": "code",
      "source": [
        "most_common_company = udf[udf['company'] != ''].company.mode()[0]\n",
        "print(most_common_company)\n"
      ],
      "metadata": {
        "id": "57zKzqJOTB4_"
      },
      "execution_count": null,
      "outputs": []
    },
    {
      "cell_type": "code",
      "source": [
        "most_popular_language = rdf[rdf['language'] != ''].language.mode()[0]\n",
        "print(most_popular_language)"
      ],
      "metadata": {
        "id": "dD_oR-4NTOB5"
      },
      "execution_count": null,
      "outputs": []
    },
    {
      "cell_type": "code",
      "source": [
        "recent_users = udf[udf['created_at'] >= '2020-01-01']\n",
        "\n",
        "# Get repositories of these users\n",
        "recent_repos = rdf[rdf['login'].isin(recent_users['login'])]\n",
        "\n",
        "# Get the second most frequent language (ignore missing languages)\n",
        "second_most_popular_language = recent_repos[recent_repos['language'] != ''].language.value_counts().index[1]\n",
        "print(second_most_popular_language)"
      ],
      "metadata": {
        "id": "UvYppN9QUKtQ"
      },
      "execution_count": null,
      "outputs": []
    },
    {
      "cell_type": "code",
      "source": [
        "language_stars = rdf.groupby('language')['stargazers_count'].mean().sort_values(ascending=False).index[0]\n",
        "print(language_stars)"
      ],
      "metadata": {
        "id": "qKv5-eBdUWAf"
      },
      "execution_count": null,
      "outputs": []
    },
    {
      "cell_type": "code",
      "source": [
        "udf['leader_strength'] = udf['followers'] / (1 + udf['following'])\n",
        "top_5_leader_strength = udf.sort_values(by='leader_strength', ascending=False)['login'].head(5)\n",
        "# Convert to comma-separated list\n",
        "print(','.join(top_5_leader_strength))"
      ],
      "metadata": {
        "id": "XZ8zK1KEUg3R"
      },
      "execution_count": null,
      "outputs": []
    },
    {
      "cell_type": "code",
      "source": [
        "correlation = udf['followers'].corr(udf['public_repos'])\n",
        "print(correlation)"
      ],
      "metadata": {
        "id": "Ih4sWQ-0VwFR"
      },
      "execution_count": null,
      "outputs": []
    },
    {
      "cell_type": "code",
      "source": [
        "from sklearn.linear_model import LinearRegression\n",
        "import numpy as np\n",
        "\n",
        "# Prepare the data\n",
        "X = udf['public_repos'].values.reshape(-1, 1)  # Independent variable: public_repos\n",
        "y = udf['followers'].values  # Dependent variable: followers\n",
        "\n",
        "# Perform linear regression\n",
        "model = LinearRegression()\n",
        "model.fit(X, y)\n",
        "\n",
        "# Get the coefficient (followers gained per additional public repo)\n",
        "followers_per_repo = model.coef_[0]\n",
        "print(followers_per_repo)"
      ],
      "metadata": {
        "id": "cztoIPKkV8nZ"
      },
      "execution_count": null,
      "outputs": []
    },
    {
      "cell_type": "code",
      "source": [
        "correlation_projects_wiki = rdf['has_projects'].corr(rdf['has_wiki'])\n",
        "print(correlation_projects_wiki)"
      ],
      "metadata": {
        "id": "mjjqrL_YWXaq"
      },
      "execution_count": null,
      "outputs": []
    },
    {
      "cell_type": "code",
      "source": [
        "hireable_following_mean = udf.groupby('hireable')['following'].mean()\n",
        "print(hireable_following_mean)"
      ],
      "metadata": {
        "id": "8fp1ABXMWhNR"
      },
      "execution_count": null,
      "outputs": []
    },
    {
      "cell_type": "code",
      "source": [
        "print(213.540541 - 149.409091)"
      ],
      "metadata": {
        "id": "WLRhI7FMWuGz"
      },
      "execution_count": null,
      "outputs": []
    },
    {
      "cell_type": "code",
      "source": [
        "users_with_bios = udf[udf['bio'] != '']\n",
        "\n",
        "# Calculate the length of each bio\n",
        "users_with_bios['bio_length'] = users_with_bios['bio'].str.len()\n",
        "\n",
        "# Calculate the correlation between bio length and followers\n",
        "correlation_bio_followers = users_with_bios['bio_length'].corr(users_with_bios['followers'])\n",
        "print(correlation_bio_followers)"
      ],
      "metadata": {
        "id": "Y6nWmADJXSza"
      },
      "execution_count": null,
      "outputs": []
    },
    {
      "cell_type": "code",
      "source": [
        "rdf['created_at'] = pd.to_datetime(rdf['created_at'])\n",
        "rdf['weekday'] = rdf['created_at'].dt.weekday\n",
        "\n",
        "# Filter for repositories created on weekends\n",
        "weekend_repos = rdf[rdf['weekday'].isin([5, 6])]\n",
        "\n",
        "# Find the top 5 users who created the most repositories on weekends\n",
        "top_5_weekend_creators = weekend_repos['login'].value_counts().head(5).index\n",
        "# Convert to comma-separated list\n",
        "print(','.join(top_5_weekend_creators))"
      ],
      "metadata": {
        "id": "v55T8KYlYGfh"
      },
      "execution_count": null,
      "outputs": []
    },
    {
      "cell_type": "code",
      "source": [
        "# Group by hireable status and check the proportion of users with non-empty email addresses\n",
        "email_sharing_by_hireable = udf.groupby('hireable')['email'].apply(lambda x: x.notnull().mean())\n",
        "print(email_sharing_by_hireable)\n"
      ],
      "metadata": {
        "id": "HI7XP8tCYi4i"
      },
      "execution_count": null,
      "outputs": []
    },
    {
      "cell_type": "code",
      "source": [
        "# Remove missing names, trim whitespace, and get the last word (surname)\n",
        "udf_with_names = udf[udf['name'].notnull()].copy()  # Use .copy() to avoid working with a view\n",
        "udf_with_names['surname'] = udf_with_names['name'].str.split().str[-1].str.upper()\n",
        "\n",
        "# Get the count of each surname\n",
        "surname_counts = udf_with_names['surname'].value_counts()\n",
        "\n",
        "# Find the maximum count\n",
        "max_count = surname_counts.max()\n",
        "\n",
        "# Find all surnames with the maximum count\n",
        "most_common_surnames = surname_counts[surname_counts == max_count]\n",
        "\n",
        "# Output the number of users with the most common surname(s)\n",
        "print(\"Number of users with the most common surname(s):\", max_count)\n",
        "print(\"Most common surname(s):\", ','.join(most_common_surnames.index))\n",
        "\n",
        "\n"
      ],
      "metadata": {
        "id": "Wqghq_QMYyIr"
      },
      "execution_count": null,
      "outputs": []
    },
    {
      "cell_type": "code",
      "source": [
        "# Calculate the correlation between 'has_projects' and 'has_wiki'\n",
        "correlation_projects_wiki = rdf['has_projects'].corr(rdf['has_wiki'])\n",
        "\n",
        "# Print the correlation rounded to 3 decimal places\n",
        "print(f\"Correlation between projects and wiki enabled: {correlation_projects_wiki:.3f}\")\n"
      ],
      "metadata": {
        "id": "RWTguJ8SgcSR"
      },
      "execution_count": null,
      "outputs": []
    },
    {
      "cell_type": "code",
      "source": [
        "# Step 1: Filter out users without names\n",
        "users_with_names = udf[udf['name'].notnull()].copy()\n",
        "\n",
        "# Step 2: Extract the surname (last word in the name)\n",
        "users_with_names['surname'] = users_with_names['name'].str.strip().str.split().str[-1]\n",
        "\n",
        "# Step 3: Count occurrences of each surname\n",
        "surname_counts = users_with_names['surname'].value_counts()\n",
        "\n",
        "# Step 4: Identify the most common surname(s)\n",
        "most_common_count = surname_counts.max()  # Maximum occurrence count\n",
        "most_common_surnames = surname_counts[surname_counts == most_common_count].index.tolist()  # List of most common surnames\n",
        "\n",
        "# Join surnames if there are multiple\n",
        "most_common_surnames_str = ', '.join(sorted(most_common_surnames))\n",
        "\n",
        "# Number of users with the most common surname\n",
        "number_of_users_with_common_surname = most_common_count\n",
        "\n",
        "# Output results\n",
        "print(f\"Most common surname(s): {most_common_surnames_str}\")\n",
        "print(f\"Number of users with the most common surname: {number_of_users_with_common_surname}\")\n"
      ],
      "metadata": {
        "id": "eHMtZAGRi9lN"
      },
      "execution_count": null,
      "outputs": []
    }
  ]
}